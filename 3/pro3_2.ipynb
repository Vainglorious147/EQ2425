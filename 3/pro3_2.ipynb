{
 "cells": [
  {
   "cell_type": "code",
   "execution_count": 1,
   "id": "ae1c7eee-a68f-46ac-9a56-c7cc6346e2a5",
   "metadata": {},
   "outputs": [],
   "source": [
    "import torch\n",
    "import torchvision\n",
    "import torch.nn as nn\n",
    "import torch.optim as optim\n",
    "import numpy as np\n",
    "import torchvision.transforms as transforms\n",
    "from torchsummary import summary\n",
    "from torchvision.datasets import CIFAR10\n",
    "from torch.utils.data import DataLoader\n",
    "import statistics"
   ]
  },
  {
   "cell_type": "code",
   "execution_count": 3,
   "id": "d52292af-aecf-4a86-b985-4450c558d133",
   "metadata": {},
   "outputs": [
    {
     "name": "stdout",
     "output_type": "stream",
     "text": [
      "cuda:0\n"
     ]
    }
   ],
   "source": [
    "device = torch.device('cuda:0' if torch.cuda.is_available() else 'cpu')\n",
    "print(device)"
   ]
  },
  {
   "cell_type": "markdown",
   "id": "5fa62145-8e01-4ac7-abdb-339502d3e458",
   "metadata": {},
   "source": [
    "Data Pre-processing"
   ]
  },
  {
   "cell_type": "code",
   "execution_count": 6,
   "id": "ad902dbc-f292-434e-bf20-31c9e7104c8e",
   "metadata": {},
   "outputs": [
    {
     "name": "stdout",
     "output_type": "stream",
     "text": [
      "Files already downloaded and verified\n",
      "Files already downloaded and verified\n"
     ]
    }
   ],
   "source": [
    "learning_rate = 0.001\n",
    "mini_batch = 64\n",
    "epochs = 100\n",
    "\n",
    "normalize = transforms.Normalize(mean=[.5, .5, .5], std=[1 ,1, 1])\n",
    "data_transform = transforms.Compose([transforms.ToTensor(), normalize])\n",
    "\n",
    "train_dataset = torchvision.datasets.CIFAR10(root='../../data/', train=True, transform=data_transform, download=True)\n",
    "test_dataset = torchvision.datasets.CIFAR10(root='../../data/', train=False, transform=data_transform, download=True)\n",
    "train_loader = DataLoader(train_dataset, batch_size=mini_batch, shuffle=False)\n",
    "test_loader = DataLoader(test_dataset, batch_size=mini_batch, shuffle=False)"
   ]
  },
  {
   "cell_type": "markdown",
   "id": "da2d49c9-47b1-4305-89b3-83a0e47d1d2e",
   "metadata": {},
   "source": [
    "Build the Default Model"
   ]
  },
  {
   "cell_type": "code",
   "execution_count": 9,
   "id": "e42e7d4b-65f7-414e-974b-e022d13a2d75",
   "metadata": {},
   "outputs": [
    {
     "name": "stdout",
     "output_type": "stream",
     "text": [
      "----------------------------------------------------------------\n",
      "        Layer (type)               Output Shape         Param #\n",
      "================================================================\n",
      "            Conv2d-1           [-1, 24, 28, 28]           1,824\n",
      "              ReLU-2           [-1, 24, 28, 28]               0\n",
      "         MaxPool2d-3           [-1, 24, 14, 14]               0\n",
      "            Conv2d-4           [-1, 48, 12, 12]          10,416\n",
      "              ReLU-5           [-1, 48, 12, 12]               0\n",
      "         MaxPool2d-6             [-1, 48, 6, 6]               0\n",
      "            Conv2d-7             [-1, 96, 4, 4]          41,568\n",
      "              ReLU-8             [-1, 96, 4, 4]               0\n",
      "         MaxPool2d-9             [-1, 96, 2, 2]               0\n",
      "          Flatten-10                  [-1, 384]               0\n",
      "           Linear-11                  [-1, 512]         197,120\n",
      "             ReLU-12                  [-1, 512]               0\n",
      "           Linear-13                   [-1, 10]           5,130\n",
      "          Softmax-14                   [-1, 10]               0\n",
      "================================================================\n",
      "Total params: 256,058\n",
      "Trainable params: 256,058\n",
      "Non-trainable params: 0\n",
      "----------------------------------------------------------------\n",
      "Input size (MB): 0.01\n",
      "Forward/backward pass size (MB): 0.48\n",
      "Params size (MB): 0.98\n",
      "Estimated Total Size (MB): 1.47\n",
      "----------------------------------------------------------------\n"
     ]
    },
    {
     "name": "stderr",
     "output_type": "stream",
     "text": [
      "D:\\anaconda\\envs\\pytorch_env\\lib\\site-packages\\torch\\nn\\modules\\module.py:1553: UserWarning: Implicit dimension choice for softmax has been deprecated. Change the call to include dim=X as an argument.\n",
      "  return self._call_impl(*args, **kwargs)\n"
     ]
    }
   ],
   "source": [
    "class CNN(nn.Module):\n",
    "  def __init__(self, num_class=10):\n",
    "    super(CNN, self).__init__()\n",
    "    self.cnn = nn.Sequential(\n",
    "      nn.Conv2d(3, 24, kernel_size=5, stride=1, padding=0),\n",
    "      nn.ReLU(),\n",
    "      nn.MaxPool2d(kernel_size=2, stride=2),\n",
    "\n",
    "      nn.Conv2d(24, 48, kernel_size=3, stride=1, padding=0),\n",
    "      nn.ReLU(),\n",
    "      nn.MaxPool2d(kernel_size=2, stride=2),\n",
    "\n",
    "      nn.Conv2d(48, 96, kernel_size=3, stride=1, padding=0),\n",
    "      nn.ReLU(),\n",
    "      nn.MaxPool2d(kernel_size=2, stride=2),\n",
    "\n",
    "      nn.Flatten(),\n",
    "\n",
    "      nn.Linear(2*2*96, 512),\n",
    "      nn.ReLU(),\n",
    "\n",
    "      nn.Linear(512, num_class),\n",
    "      nn.Softmax())\n",
    "\n",
    "  def forward(self, x):\n",
    "    out = self.cnn(x)\n",
    "    return out\n",
    "\n",
    "num_class = 10\n",
    "model = CNN(num_class).to(device)\n",
    "summary(model, (3,32,32))"
   ]
  },
  {
   "cell_type": "markdown",
   "id": "0796b89f-9d66-4ba8-b15b-0e6bdab65e12",
   "metadata": {},
   "source": [
    "Build the Default Model"
   ]
  },
  {
   "cell_type": "code",
   "execution_count": 13,
   "id": "0b67f860-ba2e-44e5-83e8-9658f2c425d3",
   "metadata": {},
   "outputs": [],
   "source": [
    "class CNN4A1(nn.Module):\n",
    "  def __init__(self, num_class=10):\n",
    "    super(CNN4A1, self).__init__()\n",
    "    self.cnn = nn.Sequential(\n",
    "      nn.Conv2d(3, 64, kernel_size=5, stride=1, padding=0),\n",
    "      nn.ReLU(),\n",
    "      nn.MaxPool2d(kernel_size=2, stride=2),\n",
    "\n",
    "      nn.Conv2d(64, 128, kernel_size=3, stride=1, padding=0),\n",
    "      nn.ReLU(),\n",
    "      nn.MaxPool2d(kernel_size=2, stride=2),\n",
    "\n",
    "      nn.Conv2d(128, 256, kernel_size=3, stride=1, padding=0),\n",
    "      nn.ReLU(),\n",
    "      nn.MaxPool2d(kernel_size=2, stride=2),\n",
    "\n",
    "      nn.Flatten(),\n",
    "\n",
    "      nn.Linear(2*2*256, 512),\n",
    "      nn.ReLU(),\n",
    "\n",
    "      nn.Linear(512, num_class),\n",
    "      nn.Softmax())\n",
    "\n",
    "  def forward(self, x):\n",
    "    out = self.cnn(x)\n",
    "    return out\n",
    "\n",
    "num_class = 10\n",
    "model = CNN4A1(num_class).to(device)\n",
    "#summary(model, (3,32,32))"
   ]
  },
  {
   "cell_type": "code",
   "execution_count": 13,
   "id": "47cb273c-b905-43f9-a6cd-bd55be6775cf",
   "metadata": {},
   "outputs": [],
   "source": [
    "class CNN4A2(nn.Module):\n",
    "  def __init__(self, num_class=10):\n",
    "    super(CNN4A2, self).__init__()\n",
    "    self.cnn = nn.Sequential(\n",
    "      nn.Conv2d(3, 24, kernel_size=5, stride=1, padding=0),\n",
    "      nn.ReLU(),\n",
    "      nn.MaxPool2d(kernel_size=2, stride=2),\n",
    "\n",
    "      nn.Conv2d(24, 48, kernel_size=3, stride=1, padding=0),\n",
    "      nn.ReLU(),\n",
    "      nn.MaxPool2d(kernel_size=2, stride=2),\n",
    "\n",
    "      nn.Conv2d(48, 96, kernel_size=3, stride=1, padding=0),\n",
    "      nn.ReLU(),\n",
    "      nn.MaxPool2d(kernel_size=2, stride=2),\n",
    "\n",
    "      nn.Flatten(),\n",
    "\n",
    "      nn.Linear(2*2*96, 512),\n",
    "      nn.ReLU(),\n",
    "\n",
    "      nn.Linear(512, 128),\n",
    "      nn.ReLU(),\n",
    "\n",
    "      nn.Linear(128, num_class),\n",
    "      nn.Softmax())\n",
    "\n",
    "  def forward(self, x):\n",
    "    out = self.cnn(x)\n",
    "    return out\n",
    "\n",
    "num_class = 10\n",
    "model = CNN4A2(num_class).to(device)\n",
    "#summary(model, (3,32,32))"
   ]
  },
  {
   "cell_type": "code",
   "execution_count": 13,
   "id": "203b8657-d6b2-4e14-b8ba-4fbc981201db",
   "metadata": {},
   "outputs": [
    {
     "name": "stdout",
     "output_type": "stream",
     "text": [
      "----------------------------------------------------------------\n",
      "        Layer (type)               Output Shape         Param #\n",
      "================================================================\n",
      "            Conv2d-1           [-1, 64, 26, 26]           9,472\n",
      "              ReLU-2           [-1, 64, 26, 26]               0\n",
      "         MaxPool2d-3           [-1, 64, 13, 13]               0\n",
      "            Conv2d-4            [-1, 128, 9, 9]         204,928\n",
      "              ReLU-5            [-1, 128, 9, 9]               0\n",
      "         MaxPool2d-6            [-1, 128, 4, 4]               0\n",
      "            Conv2d-7            [-1, 256, 2, 2]         295,168\n",
      "              ReLU-8            [-1, 256, 2, 2]               0\n",
      "         MaxPool2d-9            [-1, 256, 1, 1]               0\n",
      "          Flatten-10                  [-1, 256]               0\n",
      "           Linear-11                  [-1, 512]         131,584\n",
      "             ReLU-12                  [-1, 512]               0\n",
      "           Linear-13                   [-1, 10]           5,130\n",
      "          Softmax-14                   [-1, 10]               0\n",
      "================================================================\n",
      "Total params: 646,282\n",
      "Trainable params: 646,282\n",
      "Non-trainable params: 0\n",
      "----------------------------------------------------------------\n",
      "Input size (MB): 0.01\n",
      "Forward/backward pass size (MB): 0.94\n",
      "Params size (MB): 2.47\n",
      "Estimated Total Size (MB): 3.42\n",
      "----------------------------------------------------------------\n"
     ]
    },
    {
     "name": "stderr",
     "output_type": "stream",
     "text": [
      "D:\\anaconda\\envs\\pytorch_env\\lib\\site-packages\\torch\\nn\\modules\\module.py:1553: UserWarning: Implicit dimension choice for softmax has been deprecated. Change the call to include dim=X as an argument.\n",
      "  return self._call_impl(*args, **kwargs)\n"
     ]
    }
   ],
   "source": [
    "class CNN4B(nn.Module):\n",
    "  def __init__(self, num_class=10):\n",
    "    super(CNN4B, self).__init__()\n",
    "    self.cnn = nn.Sequential(\n",
    "      nn.Conv2d(3, 64, kernel_size=7, stride=1, padding=0),\n",
    "      nn.ReLU(),\n",
    "      nn.MaxPool2d(kernel_size=2, stride=2),\n",
    "\n",
    "      nn.Conv2d(64, 128, kernel_size=5, stride=1, padding=0),\n",
    "      nn.ReLU(),\n",
    "      nn.MaxPool2d(kernel_size=2, stride=2),\n",
    "\n",
    "      nn.Conv2d(128, 256, kernel_size=3, stride=1, padding=0),\n",
    "      nn.ReLU(),\n",
    "      nn.MaxPool2d(kernel_size=2, stride=2),\n",
    "\n",
    "      nn.Flatten(),\n",
    "\n",
    "      nn.Linear(256, 512),\n",
    "      nn.ReLU(),\n",
    "\n",
    "      nn.Linear(512, num_class),\n",
    "      nn.Softmax())\n",
    "\n",
    "  def forward(self, x):\n",
    "    out = self.cnn(x)\n",
    "    return out\n",
    "\n",
    "num_class = 10\n",
    "model = CNN4B(num_class).to(device)\n",
    "#summary(model, (3,32,32))"
   ]
  },
  {
   "cell_type": "code",
   "execution_count": 13,
   "id": "ea01c178-3f2d-4e29-b6a7-d5551cd58509",
   "metadata": {},
   "outputs": [],
   "source": [
    "class CNN4C(nn.Module):\n",
    "  def __init__(self, num_class=10):\n",
    "    super(CNN4C, self).__init__()\n",
    "    self.cnn = nn.Sequential(\n",
    "      nn.Conv2d(3, 64, kernel_size=5, stride=1, padding=0),\n",
    "      nn.LeakyReLU(),\n",
    "      nn.MaxPool2d(kernel_size=2, stride=2),\n",
    "\n",
    "      nn.Conv2d(64, 128, kernel_size=3, stride=1, padding=0),\n",
    "      nn.LeakyReLU(),\n",
    "      nn.MaxPool2d(kernel_size=2, stride=2),\n",
    "\n",
    "      nn.Conv2d(128, 256, kernel_size=3, stride=1, padding=0),\n",
    "      nn.LeakyReLU(),\n",
    "      nn.MaxPool2d(kernel_size=2, stride=2),\n",
    "\n",
    "      nn.Flatten(),\n",
    "\n",
    "      nn.Linear(2*2*256, 512),\n",
    "      nn.LeakyReLU(),\n",
    "\n",
    "      nn.Linear(512, num_class),\n",
    "      nn.Softmax())\n",
    "\n",
    "  def forward(self, x):\n",
    "    out = self.cnn(x)\n",
    "    return out\n",
    "\n",
    "num_class = 10\n",
    "model = CNN4C(num_class).to(device)\n",
    "#summary(model, (3,32,32))"
   ]
  },
  {
   "cell_type": "code",
   "execution_count": 13,
   "id": "6c5c07d4-1739-40a4-b979-ac90527f7634",
   "metadata": {},
   "outputs": [],
   "source": [
    "class CNN4D(nn.Module):\n",
    "  def __init__(self, num_class=10):\n",
    "    super(CNN4D, self).__init__()\n",
    "    self.cnn = nn.Sequential(\n",
    "      nn.Conv2d(3, 64, kernel_size=5, stride=1, padding=0),\n",
    "      nn.LeakyReLU(),\n",
    "      nn.MaxPool2d(kernel_size=2, stride=2),\n",
    "\n",
    "      nn.Conv2d(64, 128, kernel_size=3, stride=1, padding=0),\n",
    "      nn.LeakyReLU(),\n",
    "      nn.MaxPool2d(kernel_size=2, stride=2),\n",
    "\n",
    "      nn.Conv2d(128, 256, kernel_size=3, stride=1, padding=0),\n",
    "      nn.LeakyReLU(),\n",
    "      nn.MaxPool2d(kernel_size=2, stride=2),\n",
    "\n",
    "      nn.Flatten(),\n",
    "\n",
    "      nn.Linear(2*2*256, 512),\n",
    "      nn.Dropout(0.3),\n",
    "      nn.LeakyReLU(),\n",
    "\n",
    "      nn.Linear(512, num_class),\n",
    "      nn.Softmax())\n",
    "\n",
    "  def forward(self, x):\n",
    "    out = self.cnn(x)\n",
    "    return out\n",
    "\n",
    "num_class = 10\n",
    "model = CNN4D(num_class).to(device)\n",
    "#summary(model, (3,32,32))"
   ]
  },
  {
   "cell_type": "code",
   "execution_count": 13,
   "id": "e79e2d54-ec34-4a4c-af00-7cce6687abf4",
   "metadata": {},
   "outputs": [],
   "source": [
    "class CNN4E(nn.Module):\n",
    "  def __init__(self, num_class=10):\n",
    "    super(CNN4E, self).__init__()\n",
    "    self.cnn = nn.Sequential(\n",
    "      nn.Conv2d(3, 64, kernel_size=5, stride=1, padding=0),\n",
    "      nn.LeakyReLU(),\n",
    "      nn.BatchNorm2d(64),\n",
    "      nn.MaxPool2d(kernel_size=2, stride=2),\n",
    "\n",
    "      nn.Conv2d(64, 128, kernel_size=3, stride=1, padding=0),\n",
    "      nn.LeakyReLU(),\n",
    "      nn.BatchNorm2d(128),\n",
    "      nn.MaxPool2d(kernel_size=2, stride=2),\n",
    "\n",
    "      nn.Conv2d(128, 256, kernel_size=3, stride=1, padding=0),\n",
    "      nn.LeakyReLU(),\n",
    "      nn.BatchNorm2d(256),\n",
    "      nn.MaxPool2d(kernel_size=2, stride=2),\n",
    "\n",
    "      nn.Flatten(),\n",
    "\n",
    "      nn.Linear(2*2*256, 512),\n",
    "      nn.Dropout(0.3),\n",
    "      nn.LeakyReLU(),\n",
    "      nn.BatchNorm1d(512),\n",
    "\n",
    "      nn.Linear(512, num_class),\n",
    "      nn.Softmax())\n",
    "\n",
    "  def forward(self, x):\n",
    "    out = self.cnn(x)\n",
    "    return out\n",
    "\n",
    "num_class = 10\n",
    "model = CNN4E(num_class).to(device)\n",
    "#summary(model, (3,32,32))"
   ]
  },
  {
   "cell_type": "markdown",
   "id": "f60ad166-8dcf-41f2-b238-9c14e05831cb",
   "metadata": {},
   "source": [
    "Training"
   ]
  },
  {
   "cell_type": "code",
   "execution_count": 12,
   "id": "49d324b2-fdc1-414c-9c2c-b67c4651590c",
   "metadata": {},
   "outputs": [
    {
     "name": "stdout",
     "output_type": "stream",
     "text": [
      "Epoch [1/1], Step [300/782], Loss: 2.1333\n",
      "Epoch [1/1], Step [600/782], Loss: 2.0895\n"
     ]
    }
   ],
   "source": [
    "criterion = nn.CrossEntropyLoss()\n",
    "optimizer = optim.Adam(model.parameters(), lr=learning_rate)\n",
    "total_num = len(train_loader)\n",
    "\n",
    "for epoch in range(epochs):\n",
    "  for i, (image, label) in enumerate(train_loader):\n",
    "    image = image.to(device)\n",
    "    label = label.to(device)\n",
    "\n",
    "    optimizer.zero_grad()\n",
    "\n",
    "    #Forward\n",
    "    outputs = model(image)\n",
    "    loss = criterion(outputs, label)\n",
    "    #Backward\n",
    "    loss.backward()\n",
    "    optimizer.step()\n",
    "\n",
    "    if (i+1) % 300 == 0:\n",
    "      print ('Epoch [{}/{}], Step [{}/{}], Loss: {:.4f}'.format(epoch+1, epochs, i+1, total_num, loss.item()))"
   ]
  },
  {
   "cell_type": "markdown",
   "id": "76dfa9b4-8d77-4312-b6e8-4c1e8912c767",
   "metadata": {},
   "source": [
    "Testing"
   ]
  },
  {
   "cell_type": "code",
   "execution_count": 15,
   "id": "0100ff55-0634-4e74-bd21-6a9381223b07",
   "metadata": {},
   "outputs": [
    {
     "name": "stdout",
     "output_type": "stream",
     "text": [
      "Accuracy of the test model: 39.84 %\n"
     ]
    }
   ],
   "source": [
    "model.eval()\n",
    "with torch.no_grad():\n",
    "  correct = 0\n",
    "  total = 0\n",
    "  for image, label in test_loader:\n",
    "    image = image.to(device)\n",
    "    label = label.to(device)\n",
    "    outputs = model(image)\n",
    "    _, predicted = torch.max(outputs.data, 1)  #top1\n",
    "    total += label.size(0)\n",
    "    correct += (predicted == label).sum().item()\n",
    "  print('Accuracy of the test model: {} %'.format(100 * correct / total))"
   ]
  },
  {
   "cell_type": "code",
   "execution_count": null,
   "id": "3c7f25a9-dcc9-4e57-abf6-7295bd16ea25",
   "metadata": {},
   "outputs": [],
   "source": []
  }
 ],
 "metadata": {
  "kernelspec": {
   "display_name": "torch",
   "language": "python",
   "name": "pytorch_env"
  },
  "language_info": {
   "codemirror_mode": {
    "name": "ipython",
    "version": 3
   },
   "file_extension": ".py",
   "mimetype": "text/x-python",
   "name": "python",
   "nbconvert_exporter": "python",
   "pygments_lexer": "ipython3",
   "version": "3.8.20"
  }
 },
 "nbformat": 4,
 "nbformat_minor": 5
}
